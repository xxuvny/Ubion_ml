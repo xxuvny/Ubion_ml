{
 "cells": [
  {
   "cell_type": "code",
   "execution_count": 1,
   "id": "b7b048dd",
   "metadata": {
    "ExecuteTime": {
     "end_time": "2022-07-05T01:30:30.301542Z",
     "start_time": "2022-07-05T01:30:30.150984Z"
    }
   },
   "outputs": [],
   "source": [
    "from sklearn.ensemble import GradientBoostingClassifier\n",
    "from sklearn.model_selection import train_test_split\n",
    "from sklearn.metrics import accuracy_score\n",
    "from sklearn.datasets import load_iris\n",
    "import time\n",
    "import warnings\n",
    "\n",
    "warnings.filterwarnings('ignore')"
   ]
  },
  {
   "cell_type": "code",
   "execution_count": 5,
   "id": "c9c09535",
   "metadata": {
    "ExecuteTime": {
     "end_time": "2022-07-05T01:35:41.639854Z",
     "start_time": "2022-07-05T01:35:41.622899Z"
    }
   },
   "outputs": [],
   "source": [
    "iris = load_iris()\n",
    "X_train, X_test, y_train, y_test = train_test_split(iris.data, iris.target, test_size=0.2, random_state=110)"
   ]
  },
  {
   "cell_type": "code",
   "execution_count": 16,
   "id": "4c6eb856",
   "metadata": {
    "ExecuteTime": {
     "end_time": "2022-07-05T01:45:02.356254Z",
     "start_time": "2022-07-05T01:45:02.133857Z"
    }
   },
   "outputs": [
    {
     "name": "stdout",
     "output_type": "stream",
     "text": [
      "GBM정확도 :0.9666666666666667\n"
     ]
    }
   ],
   "source": [
    "## p.215\n",
    "## GBM 수행 시간 측정을 위함. 시작 시간 설정\n",
    "start_time = time.time()\n",
    "\n",
    "gb_clf = GradientBoostingClassifier(random_state=0)\n",
    "gb_clf.fit(X_train, y_train)\n",
    "gb_pred = gb_clf.predict(X_test)\n",
    "gb_accuracy = accuracy_score(y_test, gb_pred)\n",
    "\n",
    "print(f'GBM정확도 :{gb_accuracy}')"
   ]
  },
  {
   "cell_type": "code",
   "execution_count": 17,
   "id": "fb61e4c5",
   "metadata": {
    "ExecuteTime": {
     "end_time": "2022-07-05T01:49:35.273387Z",
     "start_time": "2022-07-05T01:49:35.255699Z"
    }
   },
   "outputs": [],
   "source": [
    "from sklearn.model_selection import GridSearchCV"
   ]
  },
  {
   "cell_type": "code",
   "execution_count": 19,
   "id": "613676c4",
   "metadata": {
    "ExecuteTime": {
     "end_time": "2022-07-05T01:55:39.701973Z",
     "start_time": "2022-07-05T01:55:34.941684Z"
    }
   },
   "outputs": [
    {
     "name": "stdout",
     "output_type": "stream",
     "text": [
      "Fitting 2 folds for each of 4 candidates, totalling 8 fits\n",
      "최적 하이퍼 파라미터:\n",
      " {'learning_rate': 0.05, 'n_estimators': 100}\n",
      "최고 예측 정확도 :0.95\n"
     ]
    }
   ],
   "source": [
    "## p.216\n",
    "params = {\n",
    "    'n_estimators' : [100, 500],\n",
    "    'learning_rate' : [0.05, 0.1]\n",
    "}\n",
    "grid_cv = GridSearchCV(gb_clf, param_grid=params, cv=2, verbose=1)\n",
    "grid_cv.fit(X_train, y_train)\n",
    "print(f'최적 하이퍼 파라미터:\\n {grid_cv.best_params_}')\n",
    "print(f'최고 예측 정확도 :{grid_cv.best_score_}')"
   ]
  },
  {
   "cell_type": "code",
   "execution_count": 22,
   "id": "ef3fb324",
   "metadata": {
    "ExecuteTime": {
     "end_time": "2022-07-05T01:57:41.355304Z",
     "start_time": "2022-07-05T01:57:41.335358Z"
    }
   },
   "outputs": [
    {
     "name": "stdout",
     "output_type": "stream",
     "text": [
      "0.9666666666666667\n"
     ]
    }
   ],
   "source": [
    "## 학습 데이터 셋으로 예측 수행\n",
    "pred = grid_cv.best_estimator_.predict(X_test)\n",
    "acc = accuracy_score(pred, y_test)\n",
    "print(acc)"
   ]
  },
  {
   "cell_type": "markdown",
   "id": "67c44cba",
   "metadata": {},
   "source": [
    "GBM 이용했는데 속도가 느림-> xgboosting사용"
   ]
  },
  {
   "cell_type": "markdown",
   "id": "8aa4059c",
   "metadata": {},
   "source": [
    "# xgboost\n",
    "* 1. 모델 선언  \n",
    ": xgb  = XGBClassifier()\n",
    "\n",
    "* 2. 모델 훈련 fit()함수  \n",
    ": xgb.fit(X_train, Y_train)\n",
    "\n",
    "* 3. 모델 예측 predict()함수  \n",
    ": Y_pred = xgb.predict(X_test)\n",
    "\n",
    "* 4. score()  \n",
    ": xgb.score(X_train, Y_train)"
   ]
  },
  {
   "cell_type": "code",
   "execution_count": 23,
   "id": "1d8d732a",
   "metadata": {
    "ExecuteTime": {
     "end_time": "2022-07-05T02:25:33.391453Z",
     "start_time": "2022-07-05T02:25:06.664384Z"
    }
   },
   "outputs": [
    {
     "name": "stdout",
     "output_type": "stream",
     "text": [
      "Collecting xgboost\n",
      "  Downloading xgboost-1.6.1-py3-none-win_amd64.whl (125.4 MB)\n",
      "Requirement already satisfied: scipy in c:\\users\\subin\\anaconda3\\lib\\site-packages (from xgboost) (1.6.2)\n",
      "Requirement already satisfied: numpy in c:\\users\\subin\\anaconda3\\lib\\site-packages (from xgboost) (1.20.1)\n",
      "Installing collected packages: xgboost\n",
      "Successfully installed xgboost-1.6.1\n",
      "Note: you may need to restart the kernel to use updated packages.\n"
     ]
    }
   ],
   "source": [
    "pip install xgboost"
   ]
  },
  {
   "cell_type": "code",
   "execution_count": 27,
   "id": "5458d286",
   "metadata": {
    "ExecuteTime": {
     "end_time": "2022-07-05T02:34:35.678258Z",
     "start_time": "2022-07-05T02:34:35.660306Z"
    }
   },
   "outputs": [],
   "source": [
    "import xgboost as xgb\n",
    "from xgboost import XGBClassifier\n",
    "from sklearn.datasets import load_iris\n",
    "from sklearn.model_selection import train_test_split\n"
   ]
  },
  {
   "cell_type": "code",
   "execution_count": 29,
   "id": "dbe86e0a",
   "metadata": {
    "ExecuteTime": {
     "end_time": "2022-07-05T02:35:02.912764Z",
     "start_time": "2022-07-05T02:35:02.723793Z"
    }
   },
   "outputs": [
    {
     "data": {
      "text/plain": [
       "1.0"
      ]
     },
     "execution_count": 29,
     "metadata": {},
     "output_type": "execute_result"
    }
   ],
   "source": [
    "# 1. 모델 선언\n",
    "xgb  = XGBClassifier()\n",
    "\n",
    "# 2. 모델 훈련 fit()함수\n",
    "xgb.fit(X_train, y_train)\n",
    "\n",
    "# 3. 모델 예측 predict()함수\n",
    "Y_pred = xgb.predict(X_test)\n",
    "\n",
    "# 4. score()\n",
    "xgb.score(X_train, y_train)"
   ]
  },
  {
   "cell_type": "code",
   "execution_count": null,
   "id": "6b046cb7",
   "metadata": {},
   "outputs": [],
   "source": [
    "# from sklearn.metrics import accuracy_score"
   ]
  },
  {
   "cell_type": "code",
   "execution_count": 30,
   "id": "94bfb189",
   "metadata": {
    "ExecuteTime": {
     "end_time": "2022-07-05T02:36:08.376584Z",
     "start_time": "2022-07-05T02:36:08.186095Z"
    }
   },
   "outputs": [
    {
     "name": "stdout",
     "output_type": "stream",
     "text": [
      "0.9666666666666667\n"
     ]
    }
   ],
   "source": [
    "# 1. 모델 선언\n",
    "xgb  = XGBClassifier()\n",
    "\n",
    "# 2. 모델 훈련 fit()함수\n",
    "xgb.fit(X_train, y_train)\n",
    "\n",
    "# 3. 모델 예측 predict()함수\n",
    "Y_pred = xgb.predict(X_test)\n",
    "\n",
    "# 4. score()\n",
    "# xgb.score(X_train, y_train)\n",
    "\n",
    "from sklearn.metrics import accuracy_score\n",
    "acc = accuracy_score(pred, y_test)\n",
    "print(acc)"
   ]
  },
  {
   "cell_type": "code",
   "execution_count": null,
   "id": "575caac9",
   "metadata": {},
   "outputs": [],
   "source": []
  }
 ],
 "metadata": {
  "kernelspec": {
   "display_name": "Python 3",
   "language": "python",
   "name": "python3"
  },
  "language_info": {
   "codemirror_mode": {
    "name": "ipython",
    "version": 3
   },
   "file_extension": ".py",
   "mimetype": "text/x-python",
   "name": "python",
   "nbconvert_exporter": "python",
   "pygments_lexer": "ipython3",
   "version": "3.8.8"
  },
  "toc": {
   "base_numbering": 1,
   "nav_menu": {},
   "number_sections": true,
   "sideBar": true,
   "skip_h1_title": false,
   "title_cell": "Table of Contents",
   "title_sidebar": "Contents",
   "toc_cell": false,
   "toc_position": {},
   "toc_section_display": true,
   "toc_window_display": false
  }
 },
 "nbformat": 4,
 "nbformat_minor": 5
}
