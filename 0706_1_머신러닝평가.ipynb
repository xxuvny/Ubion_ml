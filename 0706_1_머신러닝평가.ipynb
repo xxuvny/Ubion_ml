{
 "cells": [
  {
   "cell_type": "code",
   "execution_count": 62,
   "id": "a5aa69c6",
   "metadata": {
    "ExecuteTime": {
     "end_time": "2022-07-06T05:25:08.644238Z",
     "start_time": "2022-07-06T05:25:08.624708Z"
    }
   },
   "outputs": [],
   "source": [
    "import pandas as pd"
   ]
  },
  {
   "cell_type": "code",
   "execution_count": 63,
   "id": "68ef06b2",
   "metadata": {
    "ExecuteTime": {
     "end_time": "2022-07-06T05:25:08.676152Z",
     "start_time": "2022-07-06T05:25:08.647229Z"
    }
   },
   "outputs": [],
   "source": [
    "## titanic csv 데이터 가져와서 데이터프레임 만들기\n",
    "df = pd.read_csv('./csv/titanic_train.csv')"
   ]
  },
  {
   "cell_type": "code",
   "execution_count": 64,
   "id": "173f3291",
   "metadata": {
    "ExecuteTime": {
     "end_time": "2022-07-06T05:25:08.708071Z",
     "start_time": "2022-07-06T05:25:08.680141Z"
    }
   },
   "outputs": [
    {
     "data": {
      "text/html": [
       "<div>\n",
       "<style scoped>\n",
       "    .dataframe tbody tr th:only-of-type {\n",
       "        vertical-align: middle;\n",
       "    }\n",
       "\n",
       "    .dataframe tbody tr th {\n",
       "        vertical-align: top;\n",
       "    }\n",
       "\n",
       "    .dataframe thead th {\n",
       "        text-align: right;\n",
       "    }\n",
       "</style>\n",
       "<table border=\"1\" class=\"dataframe\">\n",
       "  <thead>\n",
       "    <tr style=\"text-align: right;\">\n",
       "      <th></th>\n",
       "      <th>PassengerId</th>\n",
       "      <th>Survived</th>\n",
       "      <th>Pclass</th>\n",
       "      <th>Name</th>\n",
       "      <th>Sex</th>\n",
       "      <th>Age</th>\n",
       "      <th>SibSp</th>\n",
       "      <th>Parch</th>\n",
       "      <th>Ticket</th>\n",
       "      <th>Fare</th>\n",
       "      <th>Cabin</th>\n",
       "      <th>Embarked</th>\n",
       "    </tr>\n",
       "  </thead>\n",
       "  <tbody>\n",
       "    <tr>\n",
       "      <th>0</th>\n",
       "      <td>1</td>\n",
       "      <td>0</td>\n",
       "      <td>3</td>\n",
       "      <td>Braund, Mr. Owen Harris</td>\n",
       "      <td>male</td>\n",
       "      <td>22.0</td>\n",
       "      <td>1</td>\n",
       "      <td>0</td>\n",
       "      <td>A/5 21171</td>\n",
       "      <td>7.2500</td>\n",
       "      <td>NaN</td>\n",
       "      <td>S</td>\n",
       "    </tr>\n",
       "    <tr>\n",
       "      <th>1</th>\n",
       "      <td>2</td>\n",
       "      <td>1</td>\n",
       "      <td>1</td>\n",
       "      <td>Cumings, Mrs. John Bradley (Florence Briggs Th...</td>\n",
       "      <td>female</td>\n",
       "      <td>38.0</td>\n",
       "      <td>1</td>\n",
       "      <td>0</td>\n",
       "      <td>PC 17599</td>\n",
       "      <td>71.2833</td>\n",
       "      <td>C85</td>\n",
       "      <td>C</td>\n",
       "    </tr>\n",
       "    <tr>\n",
       "      <th>2</th>\n",
       "      <td>3</td>\n",
       "      <td>1</td>\n",
       "      <td>3</td>\n",
       "      <td>Heikkinen, Miss. Laina</td>\n",
       "      <td>female</td>\n",
       "      <td>26.0</td>\n",
       "      <td>0</td>\n",
       "      <td>0</td>\n",
       "      <td>STON/O2. 3101282</td>\n",
       "      <td>7.9250</td>\n",
       "      <td>NaN</td>\n",
       "      <td>S</td>\n",
       "    </tr>\n",
       "    <tr>\n",
       "      <th>3</th>\n",
       "      <td>4</td>\n",
       "      <td>1</td>\n",
       "      <td>1</td>\n",
       "      <td>Futrelle, Mrs. Jacques Heath (Lily May Peel)</td>\n",
       "      <td>female</td>\n",
       "      <td>35.0</td>\n",
       "      <td>1</td>\n",
       "      <td>0</td>\n",
       "      <td>113803</td>\n",
       "      <td>53.1000</td>\n",
       "      <td>C123</td>\n",
       "      <td>S</td>\n",
       "    </tr>\n",
       "    <tr>\n",
       "      <th>4</th>\n",
       "      <td>5</td>\n",
       "      <td>0</td>\n",
       "      <td>3</td>\n",
       "      <td>Allen, Mr. William Henry</td>\n",
       "      <td>male</td>\n",
       "      <td>35.0</td>\n",
       "      <td>0</td>\n",
       "      <td>0</td>\n",
       "      <td>373450</td>\n",
       "      <td>8.0500</td>\n",
       "      <td>NaN</td>\n",
       "      <td>S</td>\n",
       "    </tr>\n",
       "  </tbody>\n",
       "</table>\n",
       "</div>"
      ],
      "text/plain": [
       "   PassengerId  Survived  Pclass  \\\n",
       "0            1         0       3   \n",
       "1            2         1       1   \n",
       "2            3         1       3   \n",
       "3            4         1       1   \n",
       "4            5         0       3   \n",
       "\n",
       "                                                Name     Sex   Age  SibSp  \\\n",
       "0                            Braund, Mr. Owen Harris    male  22.0      1   \n",
       "1  Cumings, Mrs. John Bradley (Florence Briggs Th...  female  38.0      1   \n",
       "2                             Heikkinen, Miss. Laina  female  26.0      0   \n",
       "3       Futrelle, Mrs. Jacques Heath (Lily May Peel)  female  35.0      1   \n",
       "4                           Allen, Mr. William Henry    male  35.0      0   \n",
       "\n",
       "   Parch            Ticket     Fare Cabin Embarked  \n",
       "0      0         A/5 21171   7.2500   NaN        S  \n",
       "1      0          PC 17599  71.2833   C85        C  \n",
       "2      0  STON/O2. 3101282   7.9250   NaN        S  \n",
       "3      0            113803  53.1000  C123        S  \n",
       "4      0            373450   8.0500   NaN        S  "
      ]
     },
     "execution_count": 64,
     "metadata": {},
     "output_type": "execute_result"
    }
   ],
   "source": [
    "df.head()"
   ]
  },
  {
   "cell_type": "code",
   "execution_count": 65,
   "id": "b2132e65",
   "metadata": {
    "ExecuteTime": {
     "end_time": "2022-07-06T05:25:08.739980Z",
     "start_time": "2022-07-06T05:25:08.712056Z"
    }
   },
   "outputs": [
    {
     "name": "stdout",
     "output_type": "stream",
     "text": [
      "<class 'pandas.core.frame.DataFrame'>\n",
      "RangeIndex: 891 entries, 0 to 890\n",
      "Data columns (total 12 columns):\n",
      " #   Column       Non-Null Count  Dtype  \n",
      "---  ------       --------------  -----  \n",
      " 0   PassengerId  891 non-null    int64  \n",
      " 1   Survived     891 non-null    int64  \n",
      " 2   Pclass       891 non-null    int64  \n",
      " 3   Name         891 non-null    object \n",
      " 4   Sex          891 non-null    object \n",
      " 5   Age          714 non-null    float64\n",
      " 6   SibSp        891 non-null    int64  \n",
      " 7   Parch        891 non-null    int64  \n",
      " 8   Ticket       891 non-null    object \n",
      " 9   Fare         891 non-null    float64\n",
      " 10  Cabin        204 non-null    object \n",
      " 11  Embarked     889 non-null    object \n",
      "dtypes: float64(2), int64(5), object(5)\n",
      "memory usage: 83.7+ KB\n"
     ]
    }
   ],
   "source": [
    "df.info()"
   ]
  },
  {
   "cell_type": "code",
   "execution_count": 66,
   "id": "5a739d09",
   "metadata": {
    "ExecuteTime": {
     "end_time": "2022-07-06T05:25:08.754941Z",
     "start_time": "2022-07-06T05:25:08.742973Z"
    }
   },
   "outputs": [],
   "source": [
    "df.drop(['PassengerId', 'Name', 'SibSp', 'Parch', 'Ticket', 'Fare', 'Cabin'], axis=1, inplace=True)"
   ]
  },
  {
   "cell_type": "code",
   "execution_count": 67,
   "id": "9ea288a3",
   "metadata": {
    "ExecuteTime": {
     "end_time": "2022-07-06T05:25:08.786856Z",
     "start_time": "2022-07-06T05:25:08.757935Z"
    }
   },
   "outputs": [
    {
     "data": {
      "text/html": [
       "<div>\n",
       "<style scoped>\n",
       "    .dataframe tbody tr th:only-of-type {\n",
       "        vertical-align: middle;\n",
       "    }\n",
       "\n",
       "    .dataframe tbody tr th {\n",
       "        vertical-align: top;\n",
       "    }\n",
       "\n",
       "    .dataframe thead th {\n",
       "        text-align: right;\n",
       "    }\n",
       "</style>\n",
       "<table border=\"1\" class=\"dataframe\">\n",
       "  <thead>\n",
       "    <tr style=\"text-align: right;\">\n",
       "      <th></th>\n",
       "      <th>Survived</th>\n",
       "      <th>Pclass</th>\n",
       "      <th>Sex</th>\n",
       "      <th>Age</th>\n",
       "      <th>Embarked</th>\n",
       "    </tr>\n",
       "  </thead>\n",
       "  <tbody>\n",
       "    <tr>\n",
       "      <th>0</th>\n",
       "      <td>0</td>\n",
       "      <td>3</td>\n",
       "      <td>male</td>\n",
       "      <td>22.0</td>\n",
       "      <td>S</td>\n",
       "    </tr>\n",
       "    <tr>\n",
       "      <th>1</th>\n",
       "      <td>1</td>\n",
       "      <td>1</td>\n",
       "      <td>female</td>\n",
       "      <td>38.0</td>\n",
       "      <td>C</td>\n",
       "    </tr>\n",
       "    <tr>\n",
       "      <th>2</th>\n",
       "      <td>1</td>\n",
       "      <td>3</td>\n",
       "      <td>female</td>\n",
       "      <td>26.0</td>\n",
       "      <td>S</td>\n",
       "    </tr>\n",
       "    <tr>\n",
       "      <th>3</th>\n",
       "      <td>1</td>\n",
       "      <td>1</td>\n",
       "      <td>female</td>\n",
       "      <td>35.0</td>\n",
       "      <td>S</td>\n",
       "    </tr>\n",
       "    <tr>\n",
       "      <th>4</th>\n",
       "      <td>0</td>\n",
       "      <td>3</td>\n",
       "      <td>male</td>\n",
       "      <td>35.0</td>\n",
       "      <td>S</td>\n",
       "    </tr>\n",
       "    <tr>\n",
       "      <th>...</th>\n",
       "      <td>...</td>\n",
       "      <td>...</td>\n",
       "      <td>...</td>\n",
       "      <td>...</td>\n",
       "      <td>...</td>\n",
       "    </tr>\n",
       "    <tr>\n",
       "      <th>886</th>\n",
       "      <td>0</td>\n",
       "      <td>2</td>\n",
       "      <td>male</td>\n",
       "      <td>27.0</td>\n",
       "      <td>S</td>\n",
       "    </tr>\n",
       "    <tr>\n",
       "      <th>887</th>\n",
       "      <td>1</td>\n",
       "      <td>1</td>\n",
       "      <td>female</td>\n",
       "      <td>19.0</td>\n",
       "      <td>S</td>\n",
       "    </tr>\n",
       "    <tr>\n",
       "      <th>888</th>\n",
       "      <td>0</td>\n",
       "      <td>3</td>\n",
       "      <td>female</td>\n",
       "      <td>NaN</td>\n",
       "      <td>S</td>\n",
       "    </tr>\n",
       "    <tr>\n",
       "      <th>889</th>\n",
       "      <td>1</td>\n",
       "      <td>1</td>\n",
       "      <td>male</td>\n",
       "      <td>26.0</td>\n",
       "      <td>C</td>\n",
       "    </tr>\n",
       "    <tr>\n",
       "      <th>890</th>\n",
       "      <td>0</td>\n",
       "      <td>3</td>\n",
       "      <td>male</td>\n",
       "      <td>32.0</td>\n",
       "      <td>Q</td>\n",
       "    </tr>\n",
       "  </tbody>\n",
       "</table>\n",
       "<p>891 rows × 5 columns</p>\n",
       "</div>"
      ],
      "text/plain": [
       "     Survived  Pclass     Sex   Age Embarked\n",
       "0           0       3    male  22.0        S\n",
       "1           1       1  female  38.0        C\n",
       "2           1       3  female  26.0        S\n",
       "3           1       1  female  35.0        S\n",
       "4           0       3    male  35.0        S\n",
       "..        ...     ...     ...   ...      ...\n",
       "886         0       2    male  27.0        S\n",
       "887         1       1  female  19.0        S\n",
       "888         0       3  female   NaN        S\n",
       "889         1       1    male  26.0        C\n",
       "890         0       3    male  32.0        Q\n",
       "\n",
       "[891 rows x 5 columns]"
      ]
     },
     "execution_count": 67,
     "metadata": {},
     "output_type": "execute_result"
    }
   ],
   "source": [
    "df"
   ]
  },
  {
   "cell_type": "code",
   "execution_count": 68,
   "id": "19eebff9",
   "metadata": {
    "ExecuteTime": {
     "end_time": "2022-07-06T05:25:08.801816Z",
     "start_time": "2022-07-06T05:25:08.788851Z"
    }
   },
   "outputs": [],
   "source": [
    "df['Age'].fillna(df['Age'].mean(), inplace=True)"
   ]
  },
  {
   "cell_type": "code",
   "execution_count": 69,
   "id": "2f820f78",
   "metadata": {
    "ExecuteTime": {
     "end_time": "2022-07-06T05:25:08.817773Z",
     "start_time": "2022-07-06T05:25:08.805806Z"
    }
   },
   "outputs": [],
   "source": [
    "df['Embarked'].fillna('S', inplace=True)"
   ]
  },
  {
   "cell_type": "code",
   "execution_count": 70,
   "id": "c94aaf5d",
   "metadata": {
    "ExecuteTime": {
     "end_time": "2022-07-06T05:25:08.864660Z",
     "start_time": "2022-07-06T05:25:08.821763Z"
    }
   },
   "outputs": [
    {
     "data": {
      "text/html": [
       "<div>\n",
       "<style scoped>\n",
       "    .dataframe tbody tr th:only-of-type {\n",
       "        vertical-align: middle;\n",
       "    }\n",
       "\n",
       "    .dataframe tbody tr th {\n",
       "        vertical-align: top;\n",
       "    }\n",
       "\n",
       "    .dataframe thead th {\n",
       "        text-align: right;\n",
       "    }\n",
       "</style>\n",
       "<table border=\"1\" class=\"dataframe\">\n",
       "  <thead>\n",
       "    <tr style=\"text-align: right;\">\n",
       "      <th></th>\n",
       "      <th>Survived</th>\n",
       "      <th>Pclass</th>\n",
       "      <th>Sex</th>\n",
       "      <th>Age</th>\n",
       "      <th>Embarked</th>\n",
       "    </tr>\n",
       "  </thead>\n",
       "  <tbody>\n",
       "    <tr>\n",
       "      <th>0</th>\n",
       "      <td>0</td>\n",
       "      <td>3</td>\n",
       "      <td>male</td>\n",
       "      <td>22.000000</td>\n",
       "      <td>S</td>\n",
       "    </tr>\n",
       "    <tr>\n",
       "      <th>1</th>\n",
       "      <td>1</td>\n",
       "      <td>1</td>\n",
       "      <td>female</td>\n",
       "      <td>38.000000</td>\n",
       "      <td>C</td>\n",
       "    </tr>\n",
       "    <tr>\n",
       "      <th>2</th>\n",
       "      <td>1</td>\n",
       "      <td>3</td>\n",
       "      <td>female</td>\n",
       "      <td>26.000000</td>\n",
       "      <td>S</td>\n",
       "    </tr>\n",
       "    <tr>\n",
       "      <th>3</th>\n",
       "      <td>1</td>\n",
       "      <td>1</td>\n",
       "      <td>female</td>\n",
       "      <td>35.000000</td>\n",
       "      <td>S</td>\n",
       "    </tr>\n",
       "    <tr>\n",
       "      <th>4</th>\n",
       "      <td>0</td>\n",
       "      <td>3</td>\n",
       "      <td>male</td>\n",
       "      <td>35.000000</td>\n",
       "      <td>S</td>\n",
       "    </tr>\n",
       "    <tr>\n",
       "      <th>...</th>\n",
       "      <td>...</td>\n",
       "      <td>...</td>\n",
       "      <td>...</td>\n",
       "      <td>...</td>\n",
       "      <td>...</td>\n",
       "    </tr>\n",
       "    <tr>\n",
       "      <th>886</th>\n",
       "      <td>0</td>\n",
       "      <td>2</td>\n",
       "      <td>male</td>\n",
       "      <td>27.000000</td>\n",
       "      <td>S</td>\n",
       "    </tr>\n",
       "    <tr>\n",
       "      <th>887</th>\n",
       "      <td>1</td>\n",
       "      <td>1</td>\n",
       "      <td>female</td>\n",
       "      <td>19.000000</td>\n",
       "      <td>S</td>\n",
       "    </tr>\n",
       "    <tr>\n",
       "      <th>888</th>\n",
       "      <td>0</td>\n",
       "      <td>3</td>\n",
       "      <td>female</td>\n",
       "      <td>29.699118</td>\n",
       "      <td>S</td>\n",
       "    </tr>\n",
       "    <tr>\n",
       "      <th>889</th>\n",
       "      <td>1</td>\n",
       "      <td>1</td>\n",
       "      <td>male</td>\n",
       "      <td>26.000000</td>\n",
       "      <td>C</td>\n",
       "    </tr>\n",
       "    <tr>\n",
       "      <th>890</th>\n",
       "      <td>0</td>\n",
       "      <td>3</td>\n",
       "      <td>male</td>\n",
       "      <td>32.000000</td>\n",
       "      <td>Q</td>\n",
       "    </tr>\n",
       "  </tbody>\n",
       "</table>\n",
       "<p>891 rows × 5 columns</p>\n",
       "</div>"
      ],
      "text/plain": [
       "     Survived  Pclass     Sex        Age Embarked\n",
       "0           0       3    male  22.000000        S\n",
       "1           1       1  female  38.000000        C\n",
       "2           1       3  female  26.000000        S\n",
       "3           1       1  female  35.000000        S\n",
       "4           0       3    male  35.000000        S\n",
       "..        ...     ...     ...        ...      ...\n",
       "886         0       2    male  27.000000        S\n",
       "887         1       1  female  19.000000        S\n",
       "888         0       3  female  29.699118        S\n",
       "889         1       1    male  26.000000        C\n",
       "890         0       3    male  32.000000        Q\n",
       "\n",
       "[891 rows x 5 columns]"
      ]
     },
     "execution_count": 70,
     "metadata": {},
     "output_type": "execute_result"
    }
   ],
   "source": [
    "df"
   ]
  },
  {
   "cell_type": "code",
   "execution_count": 71,
   "id": "b413af83",
   "metadata": {
    "ExecuteTime": {
     "end_time": "2022-07-06T05:25:08.879608Z",
     "start_time": "2022-07-06T05:25:08.868638Z"
    }
   },
   "outputs": [],
   "source": [
    "X = df.drop('Survived', axis=1)\n",
    "y = df.loc[:, 'Survived']"
   ]
  },
  {
   "cell_type": "code",
   "execution_count": 72,
   "id": "e00de6ae",
   "metadata": {
    "ExecuteTime": {
     "end_time": "2022-07-06T05:25:08.911522Z",
     "start_time": "2022-07-06T05:25:08.884596Z"
    }
   },
   "outputs": [
    {
     "data": {
      "text/html": [
       "<div>\n",
       "<style scoped>\n",
       "    .dataframe tbody tr th:only-of-type {\n",
       "        vertical-align: middle;\n",
       "    }\n",
       "\n",
       "    .dataframe tbody tr th {\n",
       "        vertical-align: top;\n",
       "    }\n",
       "\n",
       "    .dataframe thead th {\n",
       "        text-align: right;\n",
       "    }\n",
       "</style>\n",
       "<table border=\"1\" class=\"dataframe\">\n",
       "  <thead>\n",
       "    <tr style=\"text-align: right;\">\n",
       "      <th></th>\n",
       "      <th>Pclass</th>\n",
       "      <th>Sex</th>\n",
       "      <th>Age</th>\n",
       "      <th>Embarked</th>\n",
       "    </tr>\n",
       "  </thead>\n",
       "  <tbody>\n",
       "    <tr>\n",
       "      <th>0</th>\n",
       "      <td>3</td>\n",
       "      <td>male</td>\n",
       "      <td>22.000000</td>\n",
       "      <td>S</td>\n",
       "    </tr>\n",
       "    <tr>\n",
       "      <th>1</th>\n",
       "      <td>1</td>\n",
       "      <td>female</td>\n",
       "      <td>38.000000</td>\n",
       "      <td>C</td>\n",
       "    </tr>\n",
       "    <tr>\n",
       "      <th>2</th>\n",
       "      <td>3</td>\n",
       "      <td>female</td>\n",
       "      <td>26.000000</td>\n",
       "      <td>S</td>\n",
       "    </tr>\n",
       "    <tr>\n",
       "      <th>3</th>\n",
       "      <td>1</td>\n",
       "      <td>female</td>\n",
       "      <td>35.000000</td>\n",
       "      <td>S</td>\n",
       "    </tr>\n",
       "    <tr>\n",
       "      <th>4</th>\n",
       "      <td>3</td>\n",
       "      <td>male</td>\n",
       "      <td>35.000000</td>\n",
       "      <td>S</td>\n",
       "    </tr>\n",
       "    <tr>\n",
       "      <th>...</th>\n",
       "      <td>...</td>\n",
       "      <td>...</td>\n",
       "      <td>...</td>\n",
       "      <td>...</td>\n",
       "    </tr>\n",
       "    <tr>\n",
       "      <th>886</th>\n",
       "      <td>2</td>\n",
       "      <td>male</td>\n",
       "      <td>27.000000</td>\n",
       "      <td>S</td>\n",
       "    </tr>\n",
       "    <tr>\n",
       "      <th>887</th>\n",
       "      <td>1</td>\n",
       "      <td>female</td>\n",
       "      <td>19.000000</td>\n",
       "      <td>S</td>\n",
       "    </tr>\n",
       "    <tr>\n",
       "      <th>888</th>\n",
       "      <td>3</td>\n",
       "      <td>female</td>\n",
       "      <td>29.699118</td>\n",
       "      <td>S</td>\n",
       "    </tr>\n",
       "    <tr>\n",
       "      <th>889</th>\n",
       "      <td>1</td>\n",
       "      <td>male</td>\n",
       "      <td>26.000000</td>\n",
       "      <td>C</td>\n",
       "    </tr>\n",
       "    <tr>\n",
       "      <th>890</th>\n",
       "      <td>3</td>\n",
       "      <td>male</td>\n",
       "      <td>32.000000</td>\n",
       "      <td>Q</td>\n",
       "    </tr>\n",
       "  </tbody>\n",
       "</table>\n",
       "<p>891 rows × 4 columns</p>\n",
       "</div>"
      ],
      "text/plain": [
       "     Pclass     Sex        Age Embarked\n",
       "0         3    male  22.000000        S\n",
       "1         1  female  38.000000        C\n",
       "2         3  female  26.000000        S\n",
       "3         1  female  35.000000        S\n",
       "4         3    male  35.000000        S\n",
       "..      ...     ...        ...      ...\n",
       "886       2    male  27.000000        S\n",
       "887       1  female  19.000000        S\n",
       "888       3  female  29.699118        S\n",
       "889       1    male  26.000000        C\n",
       "890       3    male  32.000000        Q\n",
       "\n",
       "[891 rows x 4 columns]"
      ]
     },
     "execution_count": 72,
     "metadata": {},
     "output_type": "execute_result"
    }
   ],
   "source": [
    "X"
   ]
  },
  {
   "cell_type": "code",
   "execution_count": 73,
   "id": "7010826f",
   "metadata": {
    "ExecuteTime": {
     "end_time": "2022-07-06T05:25:08.927480Z",
     "start_time": "2022-07-06T05:25:08.914515Z"
    }
   },
   "outputs": [
    {
     "data": {
      "text/plain": [
       "0      0\n",
       "1      1\n",
       "2      1\n",
       "3      1\n",
       "4      0\n",
       "      ..\n",
       "886    0\n",
       "887    1\n",
       "888    0\n",
       "889    1\n",
       "890    0\n",
       "Name: Survived, Length: 891, dtype: int64"
      ]
     },
     "execution_count": 73,
     "metadata": {},
     "output_type": "execute_result"
    }
   ],
   "source": [
    "y"
   ]
  },
  {
   "cell_type": "code",
   "execution_count": 74,
   "id": "30bf46b6",
   "metadata": {
    "ExecuteTime": {
     "end_time": "2022-07-06T05:25:08.942440Z",
     "start_time": "2022-07-06T05:25:08.931469Z"
    }
   },
   "outputs": [],
   "source": [
    "from sklearn.preprocessing import LabelEncoder"
   ]
  },
  {
   "cell_type": "code",
   "execution_count": 75,
   "id": "909c7413",
   "metadata": {
    "ExecuteTime": {
     "end_time": "2022-07-06T05:25:08.958397Z",
     "start_time": "2022-07-06T05:25:08.945431Z"
    }
   },
   "outputs": [],
   "source": [
    "encoder = LabelEncoder()\n",
    "X['Sex'] = encoder.fit_transform(X['Sex'])\n",
    "X['Embarked'] = encoder.fit_transform(X['Embarked'])"
   ]
  },
  {
   "cell_type": "code",
   "execution_count": 76,
   "id": "40694541",
   "metadata": {
    "ExecuteTime": {
     "end_time": "2022-07-06T05:25:08.989317Z",
     "start_time": "2022-07-06T05:25:08.961389Z"
    }
   },
   "outputs": [
    {
     "data": {
      "text/html": [
       "<div>\n",
       "<style scoped>\n",
       "    .dataframe tbody tr th:only-of-type {\n",
       "        vertical-align: middle;\n",
       "    }\n",
       "\n",
       "    .dataframe tbody tr th {\n",
       "        vertical-align: top;\n",
       "    }\n",
       "\n",
       "    .dataframe thead th {\n",
       "        text-align: right;\n",
       "    }\n",
       "</style>\n",
       "<table border=\"1\" class=\"dataframe\">\n",
       "  <thead>\n",
       "    <tr style=\"text-align: right;\">\n",
       "      <th></th>\n",
       "      <th>Pclass</th>\n",
       "      <th>Sex</th>\n",
       "      <th>Age</th>\n",
       "      <th>Embarked</th>\n",
       "    </tr>\n",
       "  </thead>\n",
       "  <tbody>\n",
       "    <tr>\n",
       "      <th>0</th>\n",
       "      <td>3</td>\n",
       "      <td>1</td>\n",
       "      <td>22.000000</td>\n",
       "      <td>2</td>\n",
       "    </tr>\n",
       "    <tr>\n",
       "      <th>1</th>\n",
       "      <td>1</td>\n",
       "      <td>0</td>\n",
       "      <td>38.000000</td>\n",
       "      <td>0</td>\n",
       "    </tr>\n",
       "    <tr>\n",
       "      <th>2</th>\n",
       "      <td>3</td>\n",
       "      <td>0</td>\n",
       "      <td>26.000000</td>\n",
       "      <td>2</td>\n",
       "    </tr>\n",
       "    <tr>\n",
       "      <th>3</th>\n",
       "      <td>1</td>\n",
       "      <td>0</td>\n",
       "      <td>35.000000</td>\n",
       "      <td>2</td>\n",
       "    </tr>\n",
       "    <tr>\n",
       "      <th>4</th>\n",
       "      <td>3</td>\n",
       "      <td>1</td>\n",
       "      <td>35.000000</td>\n",
       "      <td>2</td>\n",
       "    </tr>\n",
       "    <tr>\n",
       "      <th>...</th>\n",
       "      <td>...</td>\n",
       "      <td>...</td>\n",
       "      <td>...</td>\n",
       "      <td>...</td>\n",
       "    </tr>\n",
       "    <tr>\n",
       "      <th>886</th>\n",
       "      <td>2</td>\n",
       "      <td>1</td>\n",
       "      <td>27.000000</td>\n",
       "      <td>2</td>\n",
       "    </tr>\n",
       "    <tr>\n",
       "      <th>887</th>\n",
       "      <td>1</td>\n",
       "      <td>0</td>\n",
       "      <td>19.000000</td>\n",
       "      <td>2</td>\n",
       "    </tr>\n",
       "    <tr>\n",
       "      <th>888</th>\n",
       "      <td>3</td>\n",
       "      <td>0</td>\n",
       "      <td>29.699118</td>\n",
       "      <td>2</td>\n",
       "    </tr>\n",
       "    <tr>\n",
       "      <th>889</th>\n",
       "      <td>1</td>\n",
       "      <td>1</td>\n",
       "      <td>26.000000</td>\n",
       "      <td>0</td>\n",
       "    </tr>\n",
       "    <tr>\n",
       "      <th>890</th>\n",
       "      <td>3</td>\n",
       "      <td>1</td>\n",
       "      <td>32.000000</td>\n",
       "      <td>1</td>\n",
       "    </tr>\n",
       "  </tbody>\n",
       "</table>\n",
       "<p>891 rows × 4 columns</p>\n",
       "</div>"
      ],
      "text/plain": [
       "     Pclass  Sex        Age  Embarked\n",
       "0         3    1  22.000000         2\n",
       "1         1    0  38.000000         0\n",
       "2         3    0  26.000000         2\n",
       "3         1    0  35.000000         2\n",
       "4         3    1  35.000000         2\n",
       "..      ...  ...        ...       ...\n",
       "886       2    1  27.000000         2\n",
       "887       1    0  19.000000         2\n",
       "888       3    0  29.699118         2\n",
       "889       1    1  26.000000         0\n",
       "890       3    1  32.000000         1\n",
       "\n",
       "[891 rows x 4 columns]"
      ]
     },
     "execution_count": 76,
     "metadata": {},
     "output_type": "execute_result"
    }
   ],
   "source": [
    "X"
   ]
  },
  {
   "cell_type": "code",
   "execution_count": 77,
   "id": "e7034c17",
   "metadata": {
    "ExecuteTime": {
     "end_time": "2022-07-06T05:25:09.005272Z",
     "start_time": "2022-07-06T05:25:08.994302Z"
    }
   },
   "outputs": [],
   "source": [
    "from sklearn.preprocessing import RobustScaler, MinMaxScaler"
   ]
  },
  {
   "cell_type": "code",
   "execution_count": 78,
   "id": "1ef83456",
   "metadata": {
    "ExecuteTime": {
     "end_time": "2022-07-06T05:25:09.021230Z",
     "start_time": "2022-07-06T05:25:09.008265Z"
    }
   },
   "outputs": [],
   "source": [
    "scaler = MinMaxScaler()\n",
    "X['Age'] = scaler.fit_transform(X[['Age']])"
   ]
  },
  {
   "cell_type": "code",
   "execution_count": 79,
   "id": "de049eb0",
   "metadata": {
    "ExecuteTime": {
     "end_time": "2022-07-06T05:25:09.069101Z",
     "start_time": "2022-07-06T05:25:09.024222Z"
    }
   },
   "outputs": [
    {
     "data": {
      "text/html": [
       "<div>\n",
       "<style scoped>\n",
       "    .dataframe tbody tr th:only-of-type {\n",
       "        vertical-align: middle;\n",
       "    }\n",
       "\n",
       "    .dataframe tbody tr th {\n",
       "        vertical-align: top;\n",
       "    }\n",
       "\n",
       "    .dataframe thead th {\n",
       "        text-align: right;\n",
       "    }\n",
       "</style>\n",
       "<table border=\"1\" class=\"dataframe\">\n",
       "  <thead>\n",
       "    <tr style=\"text-align: right;\">\n",
       "      <th></th>\n",
       "      <th>Pclass</th>\n",
       "      <th>Sex</th>\n",
       "      <th>Age</th>\n",
       "      <th>Embarked</th>\n",
       "    </tr>\n",
       "  </thead>\n",
       "  <tbody>\n",
       "    <tr>\n",
       "      <th>0</th>\n",
       "      <td>3</td>\n",
       "      <td>1</td>\n",
       "      <td>0.271174</td>\n",
       "      <td>2</td>\n",
       "    </tr>\n",
       "    <tr>\n",
       "      <th>1</th>\n",
       "      <td>1</td>\n",
       "      <td>0</td>\n",
       "      <td>0.472229</td>\n",
       "      <td>0</td>\n",
       "    </tr>\n",
       "    <tr>\n",
       "      <th>2</th>\n",
       "      <td>3</td>\n",
       "      <td>0</td>\n",
       "      <td>0.321438</td>\n",
       "      <td>2</td>\n",
       "    </tr>\n",
       "    <tr>\n",
       "      <th>3</th>\n",
       "      <td>1</td>\n",
       "      <td>0</td>\n",
       "      <td>0.434531</td>\n",
       "      <td>2</td>\n",
       "    </tr>\n",
       "    <tr>\n",
       "      <th>4</th>\n",
       "      <td>3</td>\n",
       "      <td>1</td>\n",
       "      <td>0.434531</td>\n",
       "      <td>2</td>\n",
       "    </tr>\n",
       "    <tr>\n",
       "      <th>...</th>\n",
       "      <td>...</td>\n",
       "      <td>...</td>\n",
       "      <td>...</td>\n",
       "      <td>...</td>\n",
       "    </tr>\n",
       "    <tr>\n",
       "      <th>886</th>\n",
       "      <td>2</td>\n",
       "      <td>1</td>\n",
       "      <td>0.334004</td>\n",
       "      <td>2</td>\n",
       "    </tr>\n",
       "    <tr>\n",
       "      <th>887</th>\n",
       "      <td>1</td>\n",
       "      <td>0</td>\n",
       "      <td>0.233476</td>\n",
       "      <td>2</td>\n",
       "    </tr>\n",
       "    <tr>\n",
       "      <th>888</th>\n",
       "      <td>3</td>\n",
       "      <td>0</td>\n",
       "      <td>0.367921</td>\n",
       "      <td>2</td>\n",
       "    </tr>\n",
       "    <tr>\n",
       "      <th>889</th>\n",
       "      <td>1</td>\n",
       "      <td>1</td>\n",
       "      <td>0.321438</td>\n",
       "      <td>0</td>\n",
       "    </tr>\n",
       "    <tr>\n",
       "      <th>890</th>\n",
       "      <td>3</td>\n",
       "      <td>1</td>\n",
       "      <td>0.396833</td>\n",
       "      <td>1</td>\n",
       "    </tr>\n",
       "  </tbody>\n",
       "</table>\n",
       "<p>891 rows × 4 columns</p>\n",
       "</div>"
      ],
      "text/plain": [
       "     Pclass  Sex       Age  Embarked\n",
       "0         3    1  0.271174         2\n",
       "1         1    0  0.472229         0\n",
       "2         3    0  0.321438         2\n",
       "3         1    0  0.434531         2\n",
       "4         3    1  0.434531         2\n",
       "..      ...  ...       ...       ...\n",
       "886       2    1  0.334004         2\n",
       "887       1    0  0.233476         2\n",
       "888       3    0  0.367921         2\n",
       "889       1    1  0.321438         0\n",
       "890       3    1  0.396833         1\n",
       "\n",
       "[891 rows x 4 columns]"
      ]
     },
     "execution_count": 79,
     "metadata": {},
     "output_type": "execute_result"
    }
   ],
   "source": [
    "X"
   ]
  },
  {
   "cell_type": "code",
   "execution_count": 80,
   "id": "3c523e4b",
   "metadata": {
    "ExecuteTime": {
     "end_time": "2022-07-06T05:25:09.085059Z",
     "start_time": "2022-07-06T05:25:09.076084Z"
    }
   },
   "outputs": [],
   "source": [
    "from sklearn.model_selection import train_test_split"
   ]
  },
  {
   "cell_type": "code",
   "execution_count": 81,
   "id": "7183e4fe",
   "metadata": {
    "ExecuteTime": {
     "end_time": "2022-07-06T05:25:09.101015Z",
     "start_time": "2022-07-06T05:25:09.088051Z"
    }
   },
   "outputs": [],
   "source": [
    "X_train, X_test, y_train, y_test = train_test_split(X, y, test_size=0.1, random_state=111)"
   ]
  },
  {
   "cell_type": "code",
   "execution_count": null,
   "id": "eaa4794e",
   "metadata": {},
   "outputs": [],
   "source": []
  },
  {
   "cell_type": "markdown",
   "id": "1bf96164",
   "metadata": {},
   "source": [
    "# BaseEstimator\n",
    "* sklearn.base.BaseEstimator\n",
    "* class sklearn.base.BaseEstimator"
   ]
  },
  {
   "cell_type": "code",
   "execution_count": 82,
   "id": "b225af53",
   "metadata": {
    "ExecuteTime": {
     "end_time": "2022-07-06T05:25:09.116972Z",
     "start_time": "2022-07-06T05:25:09.104009Z"
    }
   },
   "outputs": [],
   "source": [
    "from sklearn.base import BaseEstimator\n",
    "from sklearn.ensemble import RandomForestClassifier"
   ]
  },
  {
   "cell_type": "code",
   "execution_count": 83,
   "id": "1cad1f1a",
   "metadata": {
    "ExecuteTime": {
     "end_time": "2022-07-06T05:25:09.412306Z",
     "start_time": "2022-07-06T05:25:09.119967Z"
    }
   },
   "outputs": [],
   "source": [
    "be_clf = RandomForestClassifier()\n",
    "be_clf.fit(X_train, y_train)\n",
    "\n",
    "pred = be_clf.predict(X_test)"
   ]
  },
  {
   "cell_type": "code",
   "execution_count": 84,
   "id": "ecbc6671",
   "metadata": {
    "ExecuteTime": {
     "end_time": "2022-07-06T05:25:09.459148Z",
     "start_time": "2022-07-06T05:25:09.441201Z"
    }
   },
   "outputs": [],
   "source": [
    "from sklearn.metrics import accuracy_score\n",
    "from sklearn.metrics import precision_score\n",
    "from sklearn.metrics import recall_score"
   ]
  },
  {
   "cell_type": "code",
   "execution_count": 85,
   "id": "f92128c3",
   "metadata": {
    "ExecuteTime": {
     "end_time": "2022-07-06T05:25:09.490272Z",
     "start_time": "2022-07-06T05:25:09.464137Z"
    }
   },
   "outputs": [
    {
     "name": "stdout",
     "output_type": "stream",
     "text": [
      "정확도: 0.7666666666666667\n",
      "정밀도: 0.7058823529411765\n",
      "재현율: 0.6857142857142857\n"
     ]
    }
   ],
   "source": [
    "print(\"정확도:\", accuracy_score(y_test, pred))\n",
    "print(\"정밀도:\", precision_score(y_test, pred))\n",
    "print(\"재현율:\", recall_score(y_test, pred))"
   ]
  },
  {
   "cell_type": "markdown",
   "id": "0fb759e1",
   "metadata": {},
   "source": [
    "상층관계(trade off)"
   ]
  },
  {
   "cell_type": "code",
   "execution_count": 86,
   "id": "bdea7523",
   "metadata": {
    "ExecuteTime": {
     "end_time": "2022-07-06T05:25:09.521208Z",
     "start_time": "2022-07-06T05:25:09.500254Z"
    }
   },
   "outputs": [],
   "source": [
    "from sklearn.metrics import f1_score"
   ]
  },
  {
   "cell_type": "code",
   "execution_count": 87,
   "id": "09c58c72",
   "metadata": {
    "ExecuteTime": {
     "end_time": "2022-07-06T05:25:09.552113Z",
     "start_time": "2022-07-06T05:25:09.526183Z"
    }
   },
   "outputs": [
    {
     "name": "stdout",
     "output_type": "stream",
     "text": [
      "f1 score: 0.6956521739130436\n"
     ]
    }
   ],
   "source": [
    "print(\"f1 score:\", f1_score(y_test, pred))"
   ]
  },
  {
   "cell_type": "code",
   "execution_count": 92,
   "id": "6af081fd",
   "metadata": {
    "ExecuteTime": {
     "end_time": "2022-07-06T05:26:00.996766Z",
     "start_time": "2022-07-06T05:26:00.982805Z"
    }
   },
   "outputs": [
    {
     "data": {
      "text/plain": [
       "1.4375"
      ]
     },
     "execution_count": 92,
     "metadata": {},
     "output_type": "execute_result"
    }
   ],
   "source": [
    "(1/0.7058823529411765 + 1/0.6857142857142857)/2"
   ]
  },
  {
   "cell_type": "code",
   "execution_count": 93,
   "id": "47db6c49",
   "metadata": {
    "ExecuteTime": {
     "end_time": "2022-07-06T05:26:06.493373Z",
     "start_time": "2022-07-06T05:26:06.475419Z"
    }
   },
   "outputs": [
    {
     "data": {
      "text/plain": [
       "0.6956521739130435"
      ]
     },
     "execution_count": 93,
     "metadata": {},
     "output_type": "execute_result"
    }
   ],
   "source": [
    "1/1.4375"
   ]
  },
  {
   "cell_type": "markdown",
   "id": "55351adf",
   "metadata": {},
   "source": [
    "(1/정밀도 + 1/재현율 )/2 = f1 score"
   ]
  },
  {
   "cell_type": "code",
   "execution_count": 94,
   "id": "061cb287",
   "metadata": {
    "ExecuteTime": {
     "end_time": "2022-07-06T06:57:16.973332Z",
     "start_time": "2022-07-06T06:57:16.961887Z"
    }
   },
   "outputs": [],
   "source": [
    "from sklearn.linear_model import LogisticRegression"
   ]
  },
  {
   "cell_type": "code",
   "execution_count": 98,
   "id": "9cfa71ae",
   "metadata": {
    "ExecuteTime": {
     "end_time": "2022-07-06T07:31:21.619303Z",
     "start_time": "2022-07-06T07:31:21.569437Z"
    },
    "scrolled": true
   },
   "outputs": [
    {
     "name": "stdout",
     "output_type": "stream",
     "text": [
      "[1 1 1 0 0 0 0 1 0 1 0 0 1 1 0 1 1 0 0 1 1 0 0 0 0 0 0 1 0 0 1 1 1 0 0 0 1\n",
      " 0 1 0 0 0 1 0 0 0 1 0 1 0 0 1 1 0 1 0 0 0 0 1 0 1 0 0 1 1 0 0 0 0 0 0 0 1\n",
      " 0 1 0 1 0 0 0 0 0 1 1 0 0 0 0 0]\n",
      "[[0.30673966 0.69326034]\n",
      " [0.24313959 0.75686041]\n",
      " [0.06385122 0.93614878]\n",
      " [0.8827164  0.1172836 ]\n",
      " [0.92726492 0.07273508]\n",
      " [0.6068496  0.3931504 ]\n",
      " [0.84989784 0.15010216]\n",
      " [0.06457926 0.93542074]\n",
      " [0.90268062 0.09731938]\n",
      " [0.23392688 0.76607312]\n",
      " [0.73260025 0.26739975]\n",
      " [0.89937811 0.10062189]\n",
      " [0.3013728  0.6986272 ]\n",
      " [0.07893166 0.92106834]\n",
      " [0.9195562  0.0804438 ]\n",
      " [0.4534506  0.5465494 ]\n",
      " [0.08362292 0.91637708]\n",
      " [0.85475718 0.14524282]\n",
      " [0.79209074 0.20790926]\n",
      " [0.24783731 0.75216269]\n",
      " [0.32739033 0.67260967]\n",
      " [0.63959002 0.36040998]\n",
      " [0.9195562  0.0804438 ]\n",
      " [0.96195566 0.03804434]\n",
      " [0.90924633 0.09075367]\n",
      " [0.9195562  0.0804438 ]\n",
      " [0.85430153 0.14569847]\n",
      " [0.23850269 0.76149731]\n",
      " [0.90268062 0.09731938]\n",
      " [0.8827164  0.1172836 ]\n",
      " [0.08303999 0.91696001]\n",
      " [0.31763099 0.68236901]\n",
      " [0.18382796 0.81617204]\n",
      " [0.89228001 0.10771999]\n",
      " [0.9237687  0.0762313 ]\n",
      " [0.58240082 0.41759918]\n",
      " [0.06855315 0.93144685]\n",
      " [0.6007823  0.3992177 ]\n",
      " [0.05667736 0.94332264]\n",
      " [0.82771326 0.17228674]\n",
      " [0.935368   0.064632  ]\n",
      " [0.76591669 0.23408331]\n",
      " [0.13051277 0.86948723]\n",
      " [0.61602243 0.38397757]\n",
      " [0.90268062 0.09731938]\n",
      " [0.77488832 0.22511168]\n",
      " [0.46108669 0.53891331]\n",
      " [0.53869644 0.46130356]\n",
      " [0.0886576  0.9113424 ]\n",
      " [0.5762197  0.4237803 ]\n",
      " [0.93981837 0.06018163]\n",
      " [0.46549569 0.53450431]\n",
      " [0.33165553 0.66834447]\n",
      " [0.92895709 0.07104291]\n",
      " [0.46549569 0.53450431]\n",
      " [0.91233717 0.08766283]\n",
      " [0.72266016 0.27733984]\n",
      " [0.70452197 0.29547803]\n",
      " [0.8827164  0.1172836 ]\n",
      " [0.41406193 0.58593807]\n",
      " [0.84663345 0.15336655]\n",
      " [0.439031   0.560969  ]\n",
      " [0.87264923 0.12735077]\n",
      " [0.9195562  0.0804438 ]\n",
      " [0.41406193 0.58593807]\n",
      " [0.08964139 0.91035861]\n",
      " [0.9195562  0.0804438 ]\n",
      " [0.94262422 0.05737578]\n",
      " [0.88150241 0.11849759]\n",
      " [0.90819444 0.09180556]\n",
      " [0.61602243 0.38397757]\n",
      " [0.63666161 0.36333839]\n",
      " [0.9195562  0.0804438 ]\n",
      " [0.38091002 0.61908998]\n",
      " [0.89937811 0.10062189]\n",
      " [0.08362292 0.91637708]\n",
      " [0.90268062 0.09731938]\n",
      " [0.08303999 0.91696001]\n",
      " [0.8827164  0.1172836 ]\n",
      " [0.69307473 0.30692527]\n",
      " [0.76133877 0.23866123]\n",
      " [0.8827164  0.1172836 ]\n",
      " [0.92726492 0.07273508]\n",
      " [0.07532169 0.92467831]\n",
      " [0.3013728  0.6986272 ]\n",
      " [0.75669977 0.24330023]\n",
      " [0.90268062 0.09731938]\n",
      " [0.9237687  0.0762313 ]\n",
      " [0.9195562  0.0804438 ]\n",
      " [0.54309968 0.45690032]]\n",
      "pred_proba()결과 Shape: (90, 2)\n"
     ]
    }
   ],
   "source": [
    "## 138\n",
    "\n",
    "lr_clf = LogisticRegression()\n",
    "lr_clf.fit(X_train, y_train)\n",
    "pred_proba = lr_clf.predict_proba(X_test)\n",
    "pred = lr_clf.predict(X_test)\n",
    "print(pred)\n",
    "print(pred_proba)\n",
    "print('pred_proba()결과 Shape: {0}'.format(pred_proba.shape))"
   ]
  },
  {
   "cell_type": "code",
   "execution_count": 102,
   "id": "ed402d67",
   "metadata": {
    "ExecuteTime": {
     "end_time": "2022-07-06T07:34:15.017452Z",
     "start_time": "2022-07-06T07:34:15.009475Z"
    }
   },
   "outputs": [],
   "source": [
    "import numpy as np"
   ]
  },
  {
   "cell_type": "code",
   "execution_count": 103,
   "id": "51a5b604",
   "metadata": {
    "ExecuteTime": {
     "end_time": "2022-07-06T07:34:15.387597Z",
     "start_time": "2022-07-06T07:34:15.379327Z"
    }
   },
   "outputs": [
    {
     "name": "stdout",
     "output_type": "stream",
     "text": [
      "두개의 class 중에서 더 큰 확률을 클래스 값으로 예측 \n",
      " [[0.30673966 0.69326034 1.        ]\n",
      " [0.24313959 0.75686041 1.        ]\n",
      " [0.06385122 0.93614878 1.        ]]\n"
     ]
    }
   ],
   "source": [
    "## 예측 확률 arrayy와 예측 결과값 array를 concatenate하여 예측 확률과 결과값을 한눈에 확인\n",
    "\n",
    "pred_proba_result = np.concatenate([pred_proba, pred.reshape(-1, 1)], axis = 1)\n",
    "print('두개의 class 중에서 더 큰 확률을 클래스 값으로 예측 \\n', pred_proba_result[:3])"
   ]
  },
  {
   "cell_type": "code",
   "execution_count": null,
   "id": "e6216a07",
   "metadata": {},
   "outputs": [],
   "source": []
  },
  {
   "cell_type": "code",
   "execution_count": null,
   "id": "2a816b1c",
   "metadata": {},
   "outputs": [],
   "source": []
  },
  {
   "cell_type": "code",
   "execution_count": 104,
   "id": "00310e9c",
   "metadata": {
    "ExecuteTime": {
     "end_time": "2022-07-06T08:11:56.553848Z",
     "start_time": "2022-07-06T08:11:56.547863Z"
    }
   },
   "outputs": [],
   "source": [
    "from sklearn.metrics import precision_recall_curve"
   ]
  },
  {
   "cell_type": "code",
   "execution_count": 108,
   "id": "2e722eec",
   "metadata": {
    "ExecuteTime": {
     "end_time": "2022-07-06T08:15:28.392282Z",
     "start_time": "2022-07-06T08:15:28.373333Z"
    }
   },
   "outputs": [
    {
     "name": "stdout",
     "output_type": "stream",
     "text": [
      "반환된 분류 결정 임계값 배열의 shape: (66,)\n",
      "반환된 precisions 배열의 shape: (67,)\n",
      "반환된 recalls 배열의 shape: (67,)\n"
     ]
    }
   ],
   "source": [
    "## p.141\n",
    "## 레이블 값이 1일때의 예측 확률을 추출\n",
    "pred_proba_class1 = lr_clf.predict_proba(X_test)[:, 1]\n",
    "\n",
    "## 실제값 데이터 셋과 레이블 값이 1일 때의 예측 확률을 precision_recall_curve 인자로 입력\n",
    "precisions, recalls, thresholds = precision_recall_curve(y_test, pred_proba_class1)\n",
    "print('반환된 분류 결정 임계값 배열의 shape:', thresholds.shape)\n",
    "print('반환된 precisions 배열의 shape:', precisions.shape)\n",
    "print('반환된 recalls 배열의 shape:', recalls.shape)"
   ]
  },
  {
   "cell_type": "code",
   "execution_count": 109,
   "id": "f185f0e7",
   "metadata": {
    "ExecuteTime": {
     "end_time": "2022-07-06T08:16:57.403106Z",
     "start_time": "2022-07-06T08:16:57.393103Z"
    }
   },
   "outputs": [
    {
     "name": "stdout",
     "output_type": "stream",
     "text": [
      "thresholds 5 sample: [0.05737578 0.06018163 0.064632   0.07104291 0.07273508]\n",
      "precisions 5 sample: [0.39325843 0.38636364 0.3908046  0.39534884 0.4       ]\n",
      "recalls 5 sample: [1.         0.97142857 0.97142857 0.97142857 0.97142857]\n"
     ]
    }
   ],
   "source": [
    "print(\"thresholds 5 sample:\", thresholds[:5])\n",
    "print(\"precisions 5 sample:\", precisions[:5])\n",
    "print(\"recalls 5 sample:\", recalls[:5])"
   ]
  },
  {
   "cell_type": "code",
   "execution_count": 110,
   "id": "501751d6",
   "metadata": {
    "ExecuteTime": {
     "end_time": "2022-07-06T08:20:07.259336Z",
     "start_time": "2022-07-06T08:20:07.240332Z"
    }
   },
   "outputs": [
    {
     "name": "stdout",
     "output_type": "stream",
     "text": [
      "샘플 추출을 위한 임계값 배열의 index 10개: [ 0 15 30 45 60]\n",
      "샘플용 10개의 임계값: [0.06 0.13 0.36 0.67 0.92]\n"
     ]
    }
   ],
   "source": [
    "## 반환된 임계값 배열 로우가 147건이므로 샘플로 10건만 추출하되, 임계값을 15 Step으로 추출\n",
    "thr_index = np.arange(0, thresholds.shape[0], 15)\n",
    "print('샘플 추출을 위한 임계값 배열의 index 10개:', thr_index)\n",
    "print('샘플용 10개의 임계값:', np.round(thresholds[thr_index], 2))"
   ]
  },
  {
   "cell_type": "code",
   "execution_count": 111,
   "id": "96873fc9",
   "metadata": {
    "ExecuteTime": {
     "end_time": "2022-07-06T08:21:17.472754Z",
     "start_time": "2022-07-06T08:21:17.453803Z"
    }
   },
   "outputs": [
    {
     "name": "stdout",
     "output_type": "stream",
     "text": [
      "샘플 임계갑별 정밀도: [0.393 0.509 0.571 0.875 1.   ]\n",
      "샘플 임계갑별 재현율: [1.    0.829 0.686 0.6   0.171]\n"
     ]
    }
   ],
   "source": [
    "## 15 step 단위로 추출된 임계값에 따른 정밀도와 재현율 값\n",
    "print('샘플 임계갑별 정밀도:', np.round(precisions[thr_index], 3))\n",
    "print('샘플 임계갑별 재현율:', np.round(recalls[thr_index], 3))"
   ]
  },
  {
   "cell_type": "code",
   "execution_count": 118,
   "id": "0b80ee57",
   "metadata": {
    "ExecuteTime": {
     "end_time": "2022-07-06T08:39:45.406599Z",
     "start_time": "2022-07-06T08:39:45.387811Z"
    }
   },
   "outputs": [],
   "source": [
    "import matplotlib.pyplot as plt\n",
    "import matplotlib.ticker as ticker\n",
    "%matplotlib inline"
   ]
  },
  {
   "cell_type": "code",
   "execution_count": 123,
   "id": "a29fb8ad",
   "metadata": {
    "ExecuteTime": {
     "end_time": "2022-07-06T08:43:21.684245Z",
     "start_time": "2022-07-06T08:43:21.311564Z"
    }
   },
   "outputs": [
    {
     "data": {
      "image/png": "[encoded data removed]",
      "text/plain": [
       "<Figure size 576x432 with 1 Axes>"
      ]
     },
     "metadata": {
      "needs_background": "light"
     },
     "output_type": "display_data"
    }
   ],
   "source": [
    "## p.142\n",
    "def precision_recall_curve_plot(y_test, pred_proba_c1):\n",
    "    ## threshold ndarray와 이 threshold에 따른 정밀도, 재현을 ndarray추출\n",
    "    precisions, recalls, thresholds = precision_recall_curve(y_test, pred_proba_c1)\n",
    "    \n",
    "    ## x축을 threshold값으로, Y축은 정밀도, 재현을 값으로 각각 Plot 수행, 정밀도는 점선으로 표시\n",
    "    plt.figure(figsize=(8, 6))\n",
    "    threshold_boundary = thresholds.shape[0]\n",
    "    plt.plot(thresholds, precisions[0:threshold_boundary], linestyle='--', label='precision')\n",
    "    plt.plot(thresholds, recalls[0:threshold_boundary], label='recall')\n",
    "    \n",
    "    ## threshold값 X축의 Scale을 0.1단위로 변경\n",
    "    start, end = plt.xlim()\n",
    "    plt.xticks(np.round(np.arange(start, end, 0.1), 2))\n",
    "    \n",
    "    ## x축, y축 label과 legend, 그리고 grid설정\n",
    "    plt.xlabel('Threshold value'); plt.ylabel('Precision and Recall value')\n",
    "    plt.legend(); plt.grid()\n",
    "    plt.show()\n",
    "    \n",
    "precision_recall_curve_plot(y_test, lr_clf.predict_proba(X_test)[:, 1])"
   ]
  },
  {
   "cell_type": "code",
   "execution_count": null,
   "id": "2b8f05fa",
   "metadata": {},
   "outputs": [],
   "source": []
  }
 ],
 "metadata": {
  "kernelspec": {
   "display_name": "Python 3",
   "language": "python",
   "name": "python3"
  },
  "language_info": {
   "codemirror_mode": {
    "name": "ipython",
    "version": 3
   },
   "file_extension": ".py",
   "mimetype": "text/x-python",
   "name": "python",
   "nbconvert_exporter": "python",
   "pygments_lexer": "ipython3",
   "version": "3.8.8"
  },
  "toc": {
   "base_numbering": 1,
   "nav_menu": {},
   "number_sections": true,
   "sideBar": true,
   "skip_h1_title": false,
   "title_cell": "Table of Contents",
   "title_sidebar": "Contents",
   "toc_cell": false,
   "toc_position": {},
   "toc_section_display": true,
   "toc_window_display": false
  }
 },
 "nbformat": 4,
 "nbformat_minor": 5
}
